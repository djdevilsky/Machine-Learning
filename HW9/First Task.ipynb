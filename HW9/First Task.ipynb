{
 "cells": [
  {
   "cell_type": "code",
   "execution_count": 1,
   "metadata": {},
   "outputs": [
    {
     "name": "stdout",
     "output_type": "stream",
     "text": [
      "1 5 2 1 4 0\n",
      "11\n"
     ]
    }
   ],
   "source": [
    "def pairs(N):\n",
    "    n = len(N)\n",
    "    s = 0\n",
    "    for i in range(n):\n",
    "        for j in range(i + 1, n):\n",
    "            if j - i <= N[i] + N[j]:\n",
    "                s += 1\n",
    "    if s > 10000000:\n",
    "        s = -1\n",
    "    return s\n",
    "\n",
    "l = []\n",
    "a = input()\n",
    "for i in a.split():\n",
    "    l.append(int(i))\n",
    "\n",
    "print(pairs(l))"
   ]
  },
  {
   "cell_type": "code",
   "execution_count": null,
   "metadata": {},
   "outputs": [],
   "source": []
  }
 ],
 "metadata": {
  "kernelspec": {
   "display_name": "Python 3",
   "language": "python",
   "name": "python3"
  },
  "language_info": {
   "codemirror_mode": {
    "name": "ipython",
    "version": 3
   },
   "file_extension": ".py",
   "mimetype": "text/x-python",
   "name": "python",
   "nbconvert_exporter": "python",
   "pygments_lexer": "ipython3",
   "version": "3.7.4"
  }
 },
 "nbformat": 4,
 "nbformat_minor": 2
}
