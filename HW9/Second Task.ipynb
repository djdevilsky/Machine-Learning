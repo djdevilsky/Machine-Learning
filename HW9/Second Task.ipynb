{
 "cells": [
  {
   "cell_type": "code",
   "execution_count": 3,
   "metadata": {},
   "outputs": [
    {
     "name": "stdout",
     "output_type": "stream",
     "text": [
      "9 3 9 3 9 7 9\n",
      "7\n"
     ]
    }
   ],
   "source": [
    "def unpaired(N):\n",
    "    x = 0\n",
    "    n = len(N)\n",
    "    for i in range(n):\n",
    "        for j in range(n):\n",
    "            if N[i] == N[j]:\n",
    "                x += 1\n",
    "        if x % 2 == 1:\n",
    "            return N[i]\n",
    "        \n",
    "s = 0\n",
    "a = input()\n",
    "l = []\n",
    "for i in a.split():\n",
    "    l.append(int(i))\n",
    "    \n",
    "print(unpaired(l))"
   ]
  },
  {
   "cell_type": "code",
   "execution_count": null,
   "metadata": {},
   "outputs": [],
   "source": []
  },
  {
   "cell_type": "code",
   "execution_count": null,
   "metadata": {},
   "outputs": [],
   "source": []
  }
 ],
 "metadata": {
  "kernelspec": {
   "display_name": "Python 3",
   "language": "python",
   "name": "python3"
  },
  "language_info": {
   "codemirror_mode": {
    "name": "ipython",
    "version": 3
   },
   "file_extension": ".py",
   "mimetype": "text/x-python",
   "name": "python",
   "nbconvert_exporter": "python",
   "pygments_lexer": "ipython3",
   "version": "3.7.4"
  }
 },
 "nbformat": 4,
 "nbformat_minor": 2
}
